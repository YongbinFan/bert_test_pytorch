{
 "cells": [
  {
   "cell_type": "code",
   "execution_count": 1,
   "id": "26495f7d",
   "metadata": {},
   "outputs": [],
   "source": [
    "import torch\n",
    "import torch.nn as nn\n"
   ]
  },
  {
   "cell_type": "code",
   "execution_count": null,
   "id": "225dd263",
   "metadata": {},
   "outputs": [],
   "source": [
    "x_input = torch.randn(2,3,10) # batch size at first dim 2\n",
    "x_input = torch.randn(3,10,2) # batch size at last dim 2"
   ]
  },
  {
   "cell_type": "code",
   "execution_count": null,
   "id": "fa9621c0",
   "metadata": {},
   "outputs": [],
   "source": [
    "class RNN(nn.Module):\n",
    "    def __init__(self, input_size,hidden_size,batch_first=False):\n",
    "        # batch_first check whether batch is at first dim\n",
    "        super(RNN,self).__init__()\n",
    "        self.rnn_cell = nn.RNNCell(input_size, hidden_size)\n",
    "        \n",
    "        self.batch_first = batch_first\n",
    "        \n",
    "        self.hidden_size = hidden_size\n",
    "    \n",
    "    def _initialize_hidden(self, batch_size):\n",
    "        return torch.zeros((batch_size,self.hidden_size))\n",
    "    \n",
    "    def forward(self, inputs, initial_hidden = None):\n",
    "        if self.batch_first:\n",
    "            # batch, sequence, feature, size() return (x,x,x)\n",
    "            batch_size,seq_size,feat_size = input.size()\n",
    "            # change the dimension location for train\n",
    "            inputs = inputs.permute(1,0,2)\n",
    "        else:\n",
    "            seq_size, batch_size, feat_size = inputs.size()\n",
    "            \n",
    "        hiddens = []\n",
    "        \n",
    "        if initial_hidden is None:\n",
    "            # no pre predict\n",
    "            initial_hidden = self._initialize_hidden(batch_size)"
   ]
  }
 ],
 "metadata": {
  "kernelspec": {
   "display_name": "Python 3 (ipykernel)",
   "language": "python",
   "name": "python3"
  },
  "language_info": {
   "codemirror_mode": {
    "name": "ipython",
    "version": 3
   },
   "file_extension": ".py",
   "mimetype": "text/x-python",
   "name": "python",
   "nbconvert_exporter": "python",
   "pygments_lexer": "ipython3",
   "version": "3.7.13"
  }
 },
 "nbformat": 4,
 "nbformat_minor": 5
}
